{
 "cells": [
  {
   "cell_type": "code",
   "execution_count": null,
   "metadata": {},
   "outputs": [],
   "source": [
    "run etl.py drop"
   ]
  },
  {
   "cell_type": "code",
   "execution_count": null,
   "metadata": {},
   "outputs": [],
   "source": [
    "import psycopg2\n",
    "import pandas as pd\n",
    "import configparser\n",
    "import matplotlib.pyplot as plt"
   ]
  },
  {
   "cell_type": "code",
   "execution_count": null,
   "metadata": {},
   "outputs": [],
   "source": [
    "config = configparser.ConfigParser()\n",
    "config.read('dwh.cfg')\n",
    "\n",
    "conn = psycopg2.connect(\"host={} dbname={} user={} password={} port={}\".format(*config['CLUSTER'].values()))\n",
    "cur = conn.cursor()   \n"
   ]
  },
  {
   "cell_type": "code",
   "execution_count": null,
   "metadata": {},
   "outputs": [],
   "source": [
    "sql_chk_load_cnt = \"\"\"\n",
    "select count(*) as total, 'd_age_group' as table_nm from d_age_group\n",
    "union\n",
    "select count(*) as total, 'd_area' as table_nm from d_area\n",
    "union\n",
    "select count(*) as total, 'd_coordinates' as table_nm from d_coordinates\n",
    "union\n",
    "select count(*) as total, 'd_gender_type' as table_nm from d_gender_type\n",
    "union\n",
    "select count(*) as total, 'd_jurisdiction' as table_nm from d_jurisdiction\n",
    "union\n",
    "select count(*) as total, 'd_race_type' as table_nm from d_race_type\n",
    "union\n",
    "select count(*) as total, 'd_us_cities' as table_nm from d_us_cities\n",
    "union\n",
    "select count(*) as total, 'f_crime_data' as table_nm from f_crime_data;\n",
    "\"\"\"\n",
    "\n",
    "sql_crime_by_race_and_year = \"\"\"\n",
    "select count(*) total, \n",
    "\t  case when suspect_race_id = 10 then 'UNKNOWN' else race end as suspect_race, \n",
    "\t  to_char(rpt_date_of_crime,'YYYY') as Year \n",
    "from f_crime_data f\n",
    "\tleft join  d_race_type d\n",
    "\t\ton d.id = suspect_race_id\n",
    "where crime_location = 'NYC'\n",
    "\t  and rpt_date_of_crime between '2012-01-01' and '2012-12-31'\n",
    "group by suspect_race_id , race,  to_char(rpt_date_of_crime,'YYYY')\n",
    "\"\"\"\n",
    "\n",
    "sql_crime_by_area_and_year = \"\"\"\n",
    "select count(*) as total, \n",
    "\t   crime_location, \n",
    "\t   case \n",
    "\t\twhen area_or_boro is null then 'N/A'\n",
    "\t\twhen area_or_boro = ' ' then 'N/A'\n",
    "\t\telse area_or_boro\n",
    "\t   end as area_or_boro,\n",
    "\t   to_char(rpt_date_of_crime,'YYYY') as Year\n",
    "from f_crime_data f\n",
    "WHERE rpt_date_of_crime BETWEEN '2014-01-01' and '2016-12-31'\n",
    "group by crime_location, area_or_boro, to_char(rpt_date_of_crime,'YYYY')\n",
    "order by 4,1\n",
    "\"\"\""
   ]
  },
  {
   "cell_type": "markdown",
   "metadata": {},
   "source": [
    "## Data check\n"
   ]
  },
  {
   "cell_type": "code",
   "execution_count": null,
   "metadata": {},
   "outputs": [],
   "source": [
    "pd.read_sql(sql_chk_load_cnt, conn)"
   ]
  },
  {
   "cell_type": "markdown",
   "metadata": {},
   "source": [
    "## Crime By Race and Year"
   ]
  },
  {
   "cell_type": "code",
   "execution_count": null,
   "metadata": {},
   "outputs": [],
   "source": [
    "pd.read_sql(sql_crime_by_race_and_year, conn)"
   ]
  },
  {
   "cell_type": "markdown",
   "metadata": {},
   "source": [
    "## Crime of total count in area/boro in a time range"
   ]
  },
  {
   "cell_type": "code",
   "execution_count": null,
   "metadata": {},
   "outputs": [],
   "source": [
    "pd.read_sql(sql_crime_by_area_and_year,conn)"
   ]
  },
  {
   "cell_type": "code",
   "execution_count": null,
   "metadata": {},
   "outputs": [],
   "source": []
  },
  {
   "cell_type": "markdown",
   "metadata": {},
   "source": [
    "## Type of Crime in LA between years 2017 and 2018"
   ]
  },
  {
   "cell_type": "code",
   "execution_count": null,
   "metadata": {},
   "outputs": [],
   "source": [
    "sql_type_of_crimes = \"\"\"select \n",
    "count(*) total,\n",
    "crime_desc,\n",
    "to_char(rpt_date_of_crime,'YYYY') as Year\n",
    "from f_crime_data\n",
    "where crime_location ='LAX'\n",
    "    and to_char(rpt_date_of_crime,'YYYY') between '2017' and '2018'\n",
    "group by crime_desc,\n",
    "to_char(rpt_date_of_crime,'YYYY') \n",
    "order by 3,1\"\"\""
   ]
  },
  {
   "cell_type": "code",
   "execution_count": null,
   "metadata": {},
   "outputs": [],
   "source": [
    "pd.read_sql(sql_type_of_crimes,conn)"
   ]
  },
  {
   "cell_type": "code",
   "execution_count": null,
   "metadata": {},
   "outputs": [],
   "source": []
  },
  {
   "cell_type": "code",
   "execution_count": null,
   "metadata": {},
   "outputs": [],
   "source": []
  }
 ],
 "metadata": {
  "kernelspec": {
   "display_name": "Python 3",
   "language": "python",
   "name": "python3"
  },
  "language_info": {
   "codemirror_mode": {
    "name": "ipython",
    "version": 3
   },
   "file_extension": ".py",
   "mimetype": "text/x-python",
   "name": "python",
   "nbconvert_exporter": "python",
   "pygments_lexer": "ipython3",
   "version": "3.6.3"
  }
 },
 "nbformat": 4,
 "nbformat_minor": 2
}
